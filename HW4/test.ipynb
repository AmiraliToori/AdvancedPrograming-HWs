{
 "cells": [
  {
   "cell_type": "code",
   "execution_count": 1,
   "metadata": {},
   "outputs": [],
   "source": [
    "import matplotlib.pyplot as plt"
   ]
  },
  {
   "cell_type": "code",
   "execution_count": 4,
   "metadata": {},
   "outputs": [
    {
     "data": {
      "image/png": "[encoded data removed]",
      "text/plain": [
       "<Figure size 1900x600 with 2 Axes>"
      ]
     },
     "metadata": {},
     "output_type": "display_data"
    }
   ],
   "source": [
    "fig, (ax1, ax2) = plt.subplots(2, 1,figsize = (19, 6))\n",
    "\n",
    "x1 = [1, 2, 3, 4, 5, 6]\n",
    "y1 = [1, 2, 3, 4, 5, 6]\n",
    "\n",
    "x2 = [1, 2, 3, 2, 1]\n",
    "y2 = [1, 2, 3, 2, 1]\n",
    "\n",
    "\n",
    "ax1.plot(x1, y1, color = 'orange', label = 'Number 1')\n",
    "ax1.cma\n",
    "# ...\n",
    "\n",
    "ax2.plot(x2, y2, color = 'blue', label = 'Number 2')\n",
    "# ...\n",
    "\n",
    "plt.show()"
   ]
  },
  {
   "cell_type": "code",
   "execution_count": 1,
   "metadata": {},
   "outputs": [
    {
     "name": "stdout",
     "output_type": "stream",
     "text": [
      "0.5\n"
     ]
    }
   ],
   "source": []
  },
  {
   "cell_type": "code",
   "execution_count": 3,
   "metadata": {},
   "outputs": [
    {
     "name": "stdout",
     "output_type": "stream",
     "text": [
      "Result: 1111111\n"
     ]
    }
   ],
   "source": [
    "def convert_to_base(number, base):\n",
    "    if number == 0:\n",
    "        return ''\n",
    "    else:\n",
    "        remainder = number % base\n",
    "        return convert_to_base(number // base, base) + get_char(remainder)\n",
    "\n",
    "def get_char(digit):\n",
    "    if digit < 10:\n",
    "        return str(digit)\n",
    "    else:\n",
    "        return chr(ord('A') + digit - 10)\n",
    "\n",
    "user_input = 127\n",
    "base = 2\n",
    "result = convert_to_base(user_input, base)\n",
    "print(\"Result:\", result)\n"
   ]
  },
  {
   "cell_type": "code",
   "execution_count": 4,
   "metadata": {},
   "outputs": [
    {
     "name": "stdout",
     "output_type": "stream",
     "text": [
      "1111 1110 1101 1100 1011 1010 1001 0111 0110 0101 0011 None\n"
     ]
    }
   ],
   "source": [
    "def generate_binary_numbers(n, current_number='', ones=0, zeroes=0):\n",
    "    # Base case: when the length of the current number is equal to n\n",
    "    if len(current_number) == n:\n",
    "        # Check if the count of ones is greater than or equal to the count of zeroes\n",
    "        if ones >= zeroes:\n",
    "            print(current_number, end=' ')\n",
    "        return\n",
    "    \n",
    "    # Recursively generate binary numbers\n",
    "    generate_binary_numbers(n, current_number + '1', ones + 1, zeroes)\n",
    "    generate_binary_numbers(n, current_number + '0', ones, zeroes + 1)\n",
    "\n",
    "# Example usage:\n",
    "n = int(input(\"Enter the value of n: \"))\n",
    "print(generate_binary_numbers(n))\n"
   ]
  },
  {
   "cell_type": "code",
   "execution_count": 5,
   "metadata": {},
   "outputs": [
    {
     "name": "stdout",
     "output_type": "stream",
     "text": [
      "1111 1110 1101 1100 1011 1010 1000 "
     ]
    }
   ],
   "source": [
    "def generate_binary_numbers(n, current_number='', ones=0, zeroes=0):\n",
    "    # Base case: when the length of the current number is equal to n\n",
    "    if len(current_number) == n:\n",
    "        print(current_number, end=' ')\n",
    "        return\n",
    "    \n",
    "    # Recursively generate binary numbers\n",
    "    if ones >= zeroes:\n",
    "        generate_binary_numbers(n, current_number + '1', ones + 1, zeroes)\n",
    "    generate_binary_numbers(n, current_number + '0', ones, zeroes + 1)\n",
    "\n",
    "# Example usage:\n",
    "n = int(input(\"Enter the value of n: \"))\n",
    "generate_binary_numbers(n, '1', 1, 0)\n",
    "\n",
    "# 1111 1110 1101 1100 1011 1010"
   ]
  },
  {
   "cell_type": "code",
   "execution_count": 8,
   "metadata": {},
   "outputs": [
    {
     "name": "stdout",
     "output_type": "stream",
     "text": [
      "1111 1110 1101 1100 1011 1010 1000 "
     ]
    }
   ],
   "source": [
    "def generate_binary_numbers(n, current_number='', ones=0, zeroes=0):\n",
    "    # Base case: when the length of the current number is equal to n\n",
    "    if len(current_number) == n:\n",
    "        # Check if the count of ones is greater than 0\n",
    "        if ones > 0:\n",
    "            print(current_number, end=' ')\n",
    "        return\n",
    "    \n",
    "    # Recursively generate binary numbers\n",
    "    if ones >= zeroes:\n",
    "        generate_binary_numbers(n, current_number + '1', ones + 1, zeroes)\n",
    "    generate_binary_numbers(n, current_number + '0', ones, zeroes + 1)\n",
    "\n",
    "# Example usage:\n",
    "n = int(input(\"Enter the value of n: \"))\n",
    "generate_binary_numbers(n, '1', 1, 0)\n"
   ]
  },
  {
   "cell_type": "code",
   "execution_count": 3,
   "metadata": {},
   "outputs": [
    {
     "name": "stdout",
     "output_type": "stream",
     "text": [
      "111 110 "
     ]
    }
   ],
   "source": [
    "def generate_binary_numbers(n, current_number='', ones=0, zeroes=0):\n",
    "    # Base case: when the length of the current number is equal to n\n",
    "    if len(current_number) == n:\n",
    "        # Check if the count of ones is greater than or equal to the count of zeroes\n",
    "        if ones >= zeroes:\n",
    "            print(current_number, end=' ')\n",
    "        return\n",
    "    \n",
    "    # Recursively generate binary numbers\n",
    "    if ones > zeroes:\n",
    "        generate_binary_numbers(n, current_number + '1', ones + 1, zeroes)\n",
    "    generate_binary_numbers(n, current_number + '0', ones, zeroes + 1)\n",
    "\n",
    "# Example usage:\n",
    "n = int(input(\"Enter the value of n: \"))\n",
    "generate_binary_numbers(n, '1', 1, 0)\n"
   ]
  },
  {
   "cell_type": "code",
   "execution_count": 5,
   "metadata": {},
   "outputs": [
    {
     "name": "stdout",
     "output_type": "stream",
     "text": [
      "111 110 101 "
     ]
    }
   ],
   "source": [
    "def generate_binary_numbers(n, current_number='', ones=0, zeroes=0):\n",
    "    # Base case: when the length of the current number is equal to n\n",
    "    if len(current_number) == n:\n",
    "        # Check if the count of ones is greater than or equal to the count of zeroes\n",
    "        if ones >= zeroes:\n",
    "            print(current_number, end=' ')\n",
    "        return\n",
    "    \n",
    "    # Recursively generate binary numbers\n",
    "    generate_binary_numbers(n, current_number + '1', ones + 1, zeroes)\n",
    "    if ones > zeroes:\n",
    "        generate_binary_numbers(n, current_number + '0', ones, zeroes + 1)\n",
    "\n",
    "# Example usage:\n",
    "n = int(input(\"Enter the value of n: \"))\n",
    "generate_binary_numbers(n, '1', 1, 0)\n"
   ]
  }
 ],
 "metadata": {
  "kernelspec": {
   "display_name": "Python 3",
   "language": "python",
   "name": "python3"
  },
  "language_info": {
   "codemirror_mode": {
    "name": "ipython",
    "version": 3
   },
   "file_extension": ".py",
   "mimetype": "text/x-python",
   "name": "python",
   "nbconvert_exporter": "python",
   "pygments_lexer": "ipython3",
   "version": "3.10.12"
  }
 },
 "nbformat": 4,
 "nbformat_minor": 2
}
