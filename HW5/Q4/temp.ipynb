{
 "cells": [
  {
   "cell_type": "code",
   "execution_count": 6,
   "metadata": {},
   "outputs": [
    {
     "name": "stdout",
     "output_type": "stream",
     "text": [
      "['1', '2', '2', '3', '4', '5', '5', '1', '2', '3', '8', '0', '10']\n",
      "['1' '2' '2' '3' '4' '5' '5' '1' '2' '3' '8' '0' '10']\n",
      "8\n",
      "<class 'numpy.str_'>\n"
     ]
    }
   ],
   "source": [
    "import numpy as np\n",
    "\n",
    "mylist = ['1', '2', '2', '3', '4', '5', '5', '1', '2', '3', '8', '0', '10']\n",
    "print(mylist)\n",
    "mylist = np.array(mylist)\n",
    "print(mylist)\n",
    "print(max(mylist))\n",
    "\n",
    "\n",
    "\n",
    "num = max(mylist)\n",
    "print(type(num))\n"
   ]
  }
 ],
 "metadata": {
  "kernelspec": {
   "display_name": "Python 3",
   "language": "python",
   "name": "python3"
  },
  "language_info": {
   "codemirror_mode": {
    "name": "ipython",
    "version": 3
   },
   "file_extension": ".py",
   "mimetype": "text/x-python",
   "name": "python",
   "nbconvert_exporter": "python",
   "pygments_lexer": "ipython3",
   "version": "3.10.12"
  }
 },
 "nbformat": 4,
 "nbformat_minor": 2
}
